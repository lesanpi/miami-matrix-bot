{
 "metadata": {
  "language_info": {
   "codemirror_mode": {
    "name": "ipython",
    "version": 3
   },
   "file_extension": ".py",
   "mimetype": "text/x-python",
   "name": "python",
   "nbconvert_exporter": "python",
   "pygments_lexer": "ipython3",
   "version": "3.9.0-final"
  },
  "orig_nbformat": 2,
  "kernelspec": {
   "name": "python3",
   "display_name": "Python 3.9.0 64-bit ('venv')",
   "metadata": {
    "interpreter": {
     "hash": "560305b04a40c4c7d01c486136c8a709e98b7e30d5c95d6b743d0fdc0d85770b"
    }
   }
  }
 },
 "nbformat": 4,
 "nbformat_minor": 2,
 "cells": [
  {
   "cell_type": "code",
   "execution_count": null,
   "metadata": {},
   "outputs": [],
   "source": [
    "from selenium import webdriver\n",
    "from selenium.webdriver.common.by import By\n",
    "from selenium.webdriver.support.ui import WebDriverWait\n",
    "from selenium.webdriver.common.action_chains import ActionChains\n",
    "from selenium.webdriver.support import expected_conditions as EC\n",
    "from selenium.webdriver.common.keys import Keys\n",
    "webdriver.ActionChains(driver).send_keys(Keys.ESCAPE).perform()\n",
    "from webdriver_manager.chrome import ChromeDriverManager\n",
    "from PIL import Image\n",
    "from time import sleep\n",
    "import os\n"
   ]
  },
  {
   "cell_type": "code",
   "execution_count": null,
   "metadata": {},
   "outputs": [],
   "source": [
    "URL = \"https://sef.clareityiam.net/idp/login\""
   ]
  },
  {
   "cell_type": "code",
   "execution_count": null,
   "metadata": {},
   "outputs": [],
   "source": [
    "options = webdriver.ChromeOptions()\n",
    "options.add_argument('--ignore-certificate-errors')\n",
    "options.add_argument('--ignore-ssl-errors')\n",
    "driver = webdriver.Chrome(ChromeDriverManager().install(), options=options)\n",
    "driver.maximize_window()"
   ]
  },
  {
   "cell_type": "code",
   "execution_count": 117,
   "metadata": {},
   "outputs": [],
   "source": [
    "XPATHS = {\n",
    "    \"username_input\": '//div[@id=\"clareity\"]',\n",
    "    \"password_input\": '//div[@id=\"security\"]',\n",
    "    \"login_button\": '//button[@id=\"loginbtn\"]',\n",
    "    \"end_tour_button\": '//button[@data-role=\"end\"]',\n",
    "    \"matrix_app\": '//div[@id=\"appColumn115\"]',\n",
    "    \"search_option\": '//li[@class=\"sf-top\"]/a[@href=\"/Matrix/Search\"]/..',\n",
    "    \"options_for_search\": '//table[@class=\"min\"]//table[@class=\"bottom\"]//a',\n",
    "    \"dialog_address_search\": '//div[@class=\"mapSearchDialog\"]',\n",
    "    \"select_within_option_0.5\": f'//select[@id=\"{IDS[\"select_within\"]}\"]/option[@value=\"0.80467200\"]',\n",
    "    \"display_closed_comp\": f\"//select[@id='{IDS['display']}']/option[@value='U73530']\",\n",
    "    \"results_table\": \"//div[@class='css_container']\",\n",
    "    \"sp_tab\": \"//*[@id='m_pnlDisplay']/table/thead/tr/th[12]\"#'''th[@data-mlheader=1\\bSP$\\a2\\bSP$]'''\n",
    "}\n",
    "\n",
    "IDS = {\n",
    "    \"address_input\": \"Fm11_Ctrl7_TB\",\n",
    "    \"bedrooms_input\": \"Fm11_Ctrl9_TB\",\n",
    "    \"baths_input\": \"Fm11_Ctrl13_TB\",\n",
    "    \"sqft_living_area_input\": \"Fm11_Ctrl57_TB\",\n",
    "    \"select_within\": \"Fm11_Ctrl7_Radius\",\n",
    "    \"results_tab\": \"m_ucResultsPageTabs_m_pnlResultsTab\",\n",
    "    \"display\": \"m_ucDisplayPicker_m_ddlDisplayFormats\"\n",
    "}"
   ]
  },
  {
   "cell_type": "code",
   "execution_count": null,
   "metadata": {},
   "outputs": [],
   "source": [
    "# Login\n",
    "\n",
    "driver.get(URL)\n",
    "username_input = WebDriverWait(driver, 15).until(EC.element_to_be_clickable((By.XPATH, XPATHS['username_input'])))\n",
    "\n",
    "username_input.click()\n",
    "username_input.send_keys('3457717')\n",
    "\n",
    "password_input = WebDriverWait(driver, 15).until(EC.element_to_be_clickable((By.XPATH, XPATHS['password_input'])))\n",
    "password_input.click()\n",
    "password_input.send_keys('1234armando')\n",
    "\n",
    "login_button = WebDriverWait(driver, 15).until(EC.element_to_be_clickable((By.XPATH, XPATHS['login_button']))).click()"
   ]
  },
  {
   "cell_type": "code",
   "execution_count": null,
   "metadata": {},
   "outputs": [],
   "source": [
    "# Select Matrix App\n",
    "try: \n",
    "    end_tour_button = WebDriverWait(driver, 5).until(EC.element_to_be_clickable((By.XPATH, XPATHS['end_tour_button']))).click()\n",
    "except: \n",
    "    pass\n",
    "\n",
    "WebDriverWait(driver, 15).until(EC.element_to_be_clickable((By.XPATH, XPATHS['matrix_app']))).click()"
   ]
  },
  {
   "cell_type": "code",
   "execution_count": null,
   "metadata": {},
   "outputs": [],
   "source": [
    "# Change to the other window\n",
    "driver.close()\n",
    "new_window = driver.window_handles[0]\n",
    "driver.switch_to_window(new_window)"
   ]
  },
  {
   "cell_type": "code",
   "execution_count": null,
   "metadata": {},
   "outputs": [],
   "source": [
    "search_option = WebDriverWait(driver, 15).until(EC.element_to_be_clickable((By.XPATH, XPATHS['search_option'])))\n",
    "search_option.click()\n",
    "\n",
    "webdriver.ActionChains(driver).send_keys(Keys.ESCAPE).perform()"
   ]
  },
  {
   "cell_type": "code",
   "execution_count": null,
   "metadata": {},
   "outputs": [],
   "source": [
    "baths = 3\n",
    "rooms = 3\n",
    "sqft_to = 1500\n",
    "address = \"416 SW 24th\""
   ]
  },
  {
   "cell_type": "code",
   "execution_count": null,
   "metadata": {},
   "outputs": [],
   "source": [
    "# RE1/RE2 Single Family/Condo Search\n",
    "options_for_search = WebDriverWait(driver, 15).until(EC.element_to_be_clickable((By.XPATH, XPATHS['options_for_search'])))\n",
    "options_for_search = driver.find_elements_by_xpath(XPATHS['options_for_search'])\n",
    "options_for_search[0].click()"
   ]
  },
  {
   "cell_type": "code",
   "execution_count": null,
   "metadata": {},
   "outputs": [],
   "source": [
    "# RE1/RE2 Single Family/Condo Filter\n",
    "\n",
    "select_within = WebDriverWait(driver, 15).until(EC.element_to_be_clickable((By.ID, IDS['select_within'])))\n",
    "select_within.click()\n",
    "\n",
    "select_within_option_05 = WebDriverWait(driver, 15).until(EC.element_to_be_clickable((By.XPATH, XPATHS[\"select_within_option_0.5\"])))\n",
    "select_within_option_05.click()\n",
    "\n",
    "address_input = WebDriverWait(driver, 15).until(EC.element_to_be_clickable((By.ID, IDS['address_input'])))\n",
    "address_input.send_keys(address)\n",
    "dialog_address_search = WebDriverWait(driver, 15).until(EC.element_to_be_clickable((By.XPATH, XPATHS['dialog_address_search'])))\n",
    "dialog_address_search.click()\n",
    "\n",
    "bedrooms_input = WebDriverWait(driver, 15).until(EC.element_to_be_clickable((By.ID, IDS['bedrooms_input'])))\n",
    "if rooms:\n",
    "    bedrooms_input.send_keys(f\"{rooms-1}-{rooms+1}\")\n",
    "\n",
    "baths_input = WebDriverWait(driver, 15).until(EC.element_to_be_clickable((By.ID, IDS['baths_input'])))\n",
    "if baths:\n",
    "    baths_input.send_keys(f\"{baths-1}-{baths+1}\")\n",
    "\n",
    "sqft_living_area_input = WebDriverWait(driver, 15).until(EC.element_to_be_clickable((By.ID, IDS['sqft_living_area_input'])))\n",
    "if sqft_to:\n",
    "    sqft_living_area_input.send_keys(f\"0-{sqft_to+700}\")\n",
    "\n",
    "results_tab = WebDriverWait(driver, 15).until(EC.element_to_be_clickable((By.ID, IDS['results_tab'])))\n",
    "results_tab.click()"
   ]
  },
  {
   "cell_type": "code",
   "execution_count": 107,
   "metadata": {},
   "outputs": [],
   "source": [
    "def screenshot_and_crop(folder, location, size, address):\n",
    "        verify_folder_exists(folder)\n",
    "        file_path = f\"{folder}/{address.lower().replace(' ', '-').replace(',', '')}.png\"\n",
    "        driver.save_screenshot(file_path)\n",
    "\n",
    "        # crop image\n",
    "        x = location['x']\n",
    "        y = location['y']\n",
    "        width = location['x'] + size['width']\n",
    "        height = location['y'] + size['height']\n",
    "        im = Image.open(file_path)\n",
    "        im = im.crop((int(x), int(y), int(width), int(height)))\n",
    "        im.save(file_path)\n",
    "        return file_path\n",
    "\n",
    "def verify_folder_exists(folder):\n",
    "        if not os.path.exists(folder):\n",
    "            os.makedirs(folder)"
   ]
  },
  {
   "cell_type": "code",
   "execution_count": 121,
   "metadata": {},
   "outputs": [],
   "source": []
  },
  {
   "cell_type": "code",
   "execution_count": 124,
   "metadata": {},
   "outputs": [],
   "source": [
    "# Results\r\n",
    "display = WebDriverWait(driver, 15).until(EC.element_to_be_clickable((By.ID, IDS['display'])))\r\n",
    "display.click()\r\n",
    "\r\n",
    "display_option = WebDriverWait(driver, 15).until(EC.element_to_be_clickable((By.XPATH, XPATHS['display_closed_comp'])))\r\n",
    "display_option.click()\r\n",
    "\r\n",
    "display.click()\r\n",
    "\r\n",
    "\r\n",
    "\r\n",
    "sleep(5)\r\n",
    "\r\n",
    "\r\n",
    "results_table = WebDriverWait(driver, 15).until(EC.element_to_be_clickable((By.XPATH, XPATHS['results_table'])))\r\n",
    "location = results_table.location_once_scrolled_into_view\r\n",
    "size = results_table.size\r\n",
    "\r\n",
    "results_path = screenshot_and_crop('results', location, size, address)"
   ]
  }
 ]
}